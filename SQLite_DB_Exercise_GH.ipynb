{
  "nbformat": 4,
  "nbformat_minor": 0,
  "metadata": {
    "colab": {
      "provenance": [],
      "include_colab_link": true
    },
    "kernelspec": {
      "name": "python3",
      "display_name": "Python 3"
    },
    "language_info": {
      "name": "python"
    }
  },
  "cells": [
    {
      "cell_type": "markdown",
      "metadata": {
        "id": "view-in-github",
        "colab_type": "text"
      },
      "source": [
        "<a href=\"https://colab.research.google.com/github/shubham-75/DSA/blob/main/SQLite_DB_Exercise_GH.ipynb\" target=\"_parent\"><img src=\"https://colab.research.google.com/assets/colab-badge.svg\" alt=\"Open In Colab\"/></a>"
      ]
    },
    {
      "cell_type": "markdown",
      "source": [
        "**STEP 1: CREATE the SQLite database;**\n"
      ],
      "metadata": {
        "id": "LNaKuchnQfb_"
      }
    },
    {
      "cell_type": "markdown",
      "source": [
        "We need to import the sqlite3 module and create the database and tables.  You'll see this follows the syntax we have used on previous weeks.\n",
        "\n",
        "Note that we have created the student table with a primary key that is not an INTEGER.\n",
        "\n",
        "Is this good practice?  \n",
        "What are the issues and benefits of doing this?"
      ],
      "metadata": {
        "id": "wUpw9AOgQweW"
      }
    },
    {
      "cell_type": "code",
      "execution_count": 1,
      "metadata": {
        "id": "0iMWnVhS8qjx",
        "outputId": "9af03d0b-fc07-4838-dee5-21eb54e382e2",
        "colab": {
          "base_uri": "https://localhost:8080/"
        }
      },
      "outputs": [
        {
          "output_type": "stream",
          "name": "stdout",
          "text": [
            "Database and tables created successfully!\n"
          ]
        }
      ],
      "source": [
        "import sqlite3\n",
        "\n",
        "#This statement creates a connection labelled as conn.  This will be used throughout to ensure the consistency for when we start to query the database tables.\n",
        "conn = sqlite3.connect('student_grades.db')\n",
        "cursor = conn.cursor()\n",
        "\n",
        "#create the student table - we've set the ID to be a primary key.  Is it good to create the primary key as an TEXT string.\n",
        "cursor.execute('''\n",
        "CREATE TABLE IF NOT EXISTS student (\n",
        "  ID TEXT PRIMARY KEY,\n",
        "  First TEXT NOT NULL,\n",
        "  Last TEXT NOT NULL\n",
        ")\n",
        "''')\n",
        "\n",
        "#create the grade table - no primary key provided.  As students can exist multiple times in the table as can a course.\n",
        "cursor.execute('''\n",
        "CREATE TABLE IF NOT EXISTS grade (\n",
        "  ID TEXT,\n",
        "  Code TEXT NOT NULL,\n",
        "  Mark INTEGER NOT NULL\n",
        ")\n",
        "''')\n",
        "\n",
        "#create the course table - primary key provided again set as TEXT.\n",
        "cursor.execute('''\n",
        "CREATE TABLE IF NOT EXISTS course (\n",
        "  Code TEXT PRIMARY KEY,\n",
        "  Title TEXT NOT NULL\n",
        ")\n",
        "''')\n",
        "\n",
        "#This saves the chnages to the databae.  Up unitl this point the executed SQL statement isn't stored, changes are not immediatley saved.\n",
        "conn.commit()\n",
        "#conn.close()\n",
        "print(\"Database and tables created successfully!\")\n"
      ]
    },
    {
      "cell_type": "markdown",
      "source": [
        "**STEP 2: Check Tables Created:**\n",
        "\n",
        "Run the command to show the database tables created and the structure."
      ],
      "metadata": {
        "id": "bQ8lr_HEViN3"
      }
    },
    {
      "cell_type": "code",
      "source": [
        "# prompt: show the table structures\n",
        "\n",
        "#import sqlite3\n",
        "\n",
        "#conn = sqlite3.connect('student_grades.db')\n",
        "#cursor = conn.cursor()\n",
        "\n",
        "cursor.execute(\"SELECT name FROM sqlite_master WHERE type='table';\")\n",
        "tables = cursor.fetchall()\n",
        "\n",
        "for table_name in tables:\n",
        "    print(f\"Table: {table_name[0]}\")\n",
        "    cursor.execute(f\"PRAGMA table_info({table_name[0]});\")\n",
        "    columns = cursor.fetchall()\n",
        "    for col in columns:\n",
        "        print(f\"  Column: {col[1]}, Type: {col[2]}, NotNull: {col[3]}, DefaultVal: {col[4]}, PrimaryKey: {col[5]}\")\n",
        "    print(\"-\" * 20)\n",
        "\n",
        "#conn.close()\n"
      ],
      "metadata": {
        "id": "7YAxyXoB9rN_",
        "outputId": "da94a085-bf03-41ac-b9b3-39eb33747a04",
        "colab": {
          "base_uri": "https://localhost:8080/"
        }
      },
      "execution_count": 2,
      "outputs": [
        {
          "output_type": "stream",
          "name": "stdout",
          "text": [
            "Table: student\n",
            "  Column: ID, Type: TEXT, NotNull: 0, DefaultVal: None, PrimaryKey: 1\n",
            "  Column: First, Type: TEXT, NotNull: 1, DefaultVal: None, PrimaryKey: 0\n",
            "  Column: Last, Type: TEXT, NotNull: 1, DefaultVal: None, PrimaryKey: 0\n",
            "--------------------\n",
            "Table: grade\n",
            "  Column: ID, Type: TEXT, NotNull: 0, DefaultVal: None, PrimaryKey: 0\n",
            "  Column: Code, Type: TEXT, NotNull: 1, DefaultVal: None, PrimaryKey: 0\n",
            "  Column: Mark, Type: INTEGER, NotNull: 1, DefaultVal: None, PrimaryKey: 0\n",
            "--------------------\n",
            "Table: course\n",
            "  Column: Code, Type: TEXT, NotNull: 0, DefaultVal: None, PrimaryKey: 1\n",
            "  Column: Title, Type: TEXT, NotNull: 1, DefaultVal: None, PrimaryKey: 0\n",
            "--------------------\n"
          ]
        }
      ]
    },
    {
      "cell_type": "markdown",
      "source": [
        "**STEP 3: Upload Files:**\n",
        "\n",
        "Run this box three times to upload the relevant csv files.\n",
        "\n",
        "Course_Table.csv, Student_Table.csv & Grade_table.csv"
      ],
      "metadata": {
        "id": "BH7SbcUPWPcS"
      }
    },
    {
      "cell_type": "code",
      "source": [
        "\n",
        "\n",
        "from google.colab import files\n",
        "uploaded = files.upload()\n",
        "for fn in uploaded.keys():\n",
        "  print('User uploaded file \"{name}\" with length {length} bytes'.format(\n",
        "      name=fn, length=len(uploaded[fn])))\n"
      ],
      "metadata": {
        "colab": {
          "base_uri": "https://localhost:8080/",
          "height": 39
        },
        "id": "8obMdgpiV46v",
        "outputId": "c8063891-e170-461c-88c3-0f16bb08602e"
      },
      "execution_count": 4,
      "outputs": [
        {
          "output_type": "display_data",
          "data": {
            "text/plain": [
              "<IPython.core.display.HTML object>"
            ],
            "text/html": [
              "\n",
              "     <input type=\"file\" id=\"files-ca875828-3b4d-4b58-9377-fb62c5f1c18c\" name=\"files[]\" multiple disabled\n",
              "        style=\"border:none\" />\n",
              "     <output id=\"result-ca875828-3b4d-4b58-9377-fb62c5f1c18c\">\n",
              "      Upload widget is only available when the cell has been executed in the\n",
              "      current browser session. Please rerun this cell to enable.\n",
              "      </output>\n",
              "      <script>// Copyright 2017 Google LLC\n",
              "//\n",
              "// Licensed under the Apache License, Version 2.0 (the \"License\");\n",
              "// you may not use this file except in compliance with the License.\n",
              "// You may obtain a copy of the License at\n",
              "//\n",
              "//      http://www.apache.org/licenses/LICENSE-2.0\n",
              "//\n",
              "// Unless required by applicable law or agreed to in writing, software\n",
              "// distributed under the License is distributed on an \"AS IS\" BASIS,\n",
              "// WITHOUT WARRANTIES OR CONDITIONS OF ANY KIND, either express or implied.\n",
              "// See the License for the specific language governing permissions and\n",
              "// limitations under the License.\n",
              "\n",
              "/**\n",
              " * @fileoverview Helpers for google.colab Python module.\n",
              " */\n",
              "(function(scope) {\n",
              "function span(text, styleAttributes = {}) {\n",
              "  const element = document.createElement('span');\n",
              "  element.textContent = text;\n",
              "  for (const key of Object.keys(styleAttributes)) {\n",
              "    element.style[key] = styleAttributes[key];\n",
              "  }\n",
              "  return element;\n",
              "}\n",
              "\n",
              "// Max number of bytes which will be uploaded at a time.\n",
              "const MAX_PAYLOAD_SIZE = 100 * 1024;\n",
              "\n",
              "function _uploadFiles(inputId, outputId) {\n",
              "  const steps = uploadFilesStep(inputId, outputId);\n",
              "  const outputElement = document.getElementById(outputId);\n",
              "  // Cache steps on the outputElement to make it available for the next call\n",
              "  // to uploadFilesContinue from Python.\n",
              "  outputElement.steps = steps;\n",
              "\n",
              "  return _uploadFilesContinue(outputId);\n",
              "}\n",
              "\n",
              "// This is roughly an async generator (not supported in the browser yet),\n",
              "// where there are multiple asynchronous steps and the Python side is going\n",
              "// to poll for completion of each step.\n",
              "// This uses a Promise to block the python side on completion of each step,\n",
              "// then passes the result of the previous step as the input to the next step.\n",
              "function _uploadFilesContinue(outputId) {\n",
              "  const outputElement = document.getElementById(outputId);\n",
              "  const steps = outputElement.steps;\n",
              "\n",
              "  const next = steps.next(outputElement.lastPromiseValue);\n",
              "  return Promise.resolve(next.value.promise).then((value) => {\n",
              "    // Cache the last promise value to make it available to the next\n",
              "    // step of the generator.\n",
              "    outputElement.lastPromiseValue = value;\n",
              "    return next.value.response;\n",
              "  });\n",
              "}\n",
              "\n",
              "/**\n",
              " * Generator function which is called between each async step of the upload\n",
              " * process.\n",
              " * @param {string} inputId Element ID of the input file picker element.\n",
              " * @param {string} outputId Element ID of the output display.\n",
              " * @return {!Iterable<!Object>} Iterable of next steps.\n",
              " */\n",
              "function* uploadFilesStep(inputId, outputId) {\n",
              "  const inputElement = document.getElementById(inputId);\n",
              "  inputElement.disabled = false;\n",
              "\n",
              "  const outputElement = document.getElementById(outputId);\n",
              "  outputElement.innerHTML = '';\n",
              "\n",
              "  const pickedPromise = new Promise((resolve) => {\n",
              "    inputElement.addEventListener('change', (e) => {\n",
              "      resolve(e.target.files);\n",
              "    });\n",
              "  });\n",
              "\n",
              "  const cancel = document.createElement('button');\n",
              "  inputElement.parentElement.appendChild(cancel);\n",
              "  cancel.textContent = 'Cancel upload';\n",
              "  const cancelPromise = new Promise((resolve) => {\n",
              "    cancel.onclick = () => {\n",
              "      resolve(null);\n",
              "    };\n",
              "  });\n",
              "\n",
              "  // Wait for the user to pick the files.\n",
              "  const files = yield {\n",
              "    promise: Promise.race([pickedPromise, cancelPromise]),\n",
              "    response: {\n",
              "      action: 'starting',\n",
              "    }\n",
              "  };\n",
              "\n",
              "  cancel.remove();\n",
              "\n",
              "  // Disable the input element since further picks are not allowed.\n",
              "  inputElement.disabled = true;\n",
              "\n",
              "  if (!files) {\n",
              "    return {\n",
              "      response: {\n",
              "        action: 'complete',\n",
              "      }\n",
              "    };\n",
              "  }\n",
              "\n",
              "  for (const file of files) {\n",
              "    const li = document.createElement('li');\n",
              "    li.append(span(file.name, {fontWeight: 'bold'}));\n",
              "    li.append(span(\n",
              "        `(${file.type || 'n/a'}) - ${file.size} bytes, ` +\n",
              "        `last modified: ${\n",
              "            file.lastModifiedDate ? file.lastModifiedDate.toLocaleDateString() :\n",
              "                                    'n/a'} - `));\n",
              "    const percent = span('0% done');\n",
              "    li.appendChild(percent);\n",
              "\n",
              "    outputElement.appendChild(li);\n",
              "\n",
              "    const fileDataPromise = new Promise((resolve) => {\n",
              "      const reader = new FileReader();\n",
              "      reader.onload = (e) => {\n",
              "        resolve(e.target.result);\n",
              "      };\n",
              "      reader.readAsArrayBuffer(file);\n",
              "    });\n",
              "    // Wait for the data to be ready.\n",
              "    let fileData = yield {\n",
              "      promise: fileDataPromise,\n",
              "      response: {\n",
              "        action: 'continue',\n",
              "      }\n",
              "    };\n",
              "\n",
              "    // Use a chunked sending to avoid message size limits. See b/62115660.\n",
              "    let position = 0;\n",
              "    do {\n",
              "      const length = Math.min(fileData.byteLength - position, MAX_PAYLOAD_SIZE);\n",
              "      const chunk = new Uint8Array(fileData, position, length);\n",
              "      position += length;\n",
              "\n",
              "      const base64 = btoa(String.fromCharCode.apply(null, chunk));\n",
              "      yield {\n",
              "        response: {\n",
              "          action: 'append',\n",
              "          file: file.name,\n",
              "          data: base64,\n",
              "        },\n",
              "      };\n",
              "\n",
              "      let percentDone = fileData.byteLength === 0 ?\n",
              "          100 :\n",
              "          Math.round((position / fileData.byteLength) * 100);\n",
              "      percent.textContent = `${percentDone}% done`;\n",
              "\n",
              "    } while (position < fileData.byteLength);\n",
              "  }\n",
              "\n",
              "  // All done.\n",
              "  yield {\n",
              "    response: {\n",
              "      action: 'complete',\n",
              "    }\n",
              "  };\n",
              "}\n",
              "\n",
              "scope.google = scope.google || {};\n",
              "scope.google.colab = scope.google.colab || {};\n",
              "scope.google.colab._files = {\n",
              "  _uploadFiles,\n",
              "  _uploadFilesContinue,\n",
              "};\n",
              "})(self);\n",
              "</script> "
            ]
          },
          "metadata": {}
        }
      ]
    },
    {
      "cell_type": "markdown",
      "source": [
        "**STEP 4: Load CSV files into the database tables:**\n",
        "\n",
        "This will populate the database tables with the data from teh csv files.  No need to write INSERT statements.\n",
        "\n",
        "You need to make sure the correct files are loaded into the corresponding tables."
      ],
      "metadata": {
        "id": "PQVFAIgNW9I6"
      }
    },
    {
      "cell_type": "code",
      "source": [
        "import csv\n",
        "def import_csv_to_table(csv_file, table_name):\n",
        "    #opens the file aas read only 'r', doesn't allow the origianl csv to be changed.\n",
        "    with open(csv_file, 'r', encoding='utf-8') as file:\n",
        "        csv_reader = csv.reader(file)\n",
        "        next(csv_reader)  # Skip header row if present\n",
        "        for row in csv_reader:\n",
        "            #? creates a placeholder for each column in the CSV file. ['?','?','?'] - Join makes it a string so it can then be inserted.\n",
        "            # use of the '?' reduce risk of SQL injection\n",
        "            placeholders = ', '.join(['?' for _ in row])\n",
        "            #Assumes that the CSV and table have the same structure (this could be an issue) Would have to specify column names if different.\n",
        "            sql = f\"INSERT INTO {table_name} VALUES ({placeholders})\"\n",
        "            cursor.execute(sql, row)\n",
        "\n",
        "# Import data from CSV files into the relevant table - Student_Table goes into student table.  teh import_csv_to_table is the function, passing the two values across.\n",
        "try:\n",
        "    import_csv_to_table('Student_Table.csv', 'student')\n",
        "    import_csv_to_table('Course_Table.csv', 'course')\n",
        "    import_csv_to_table('Grade_Table.csv', 'grade')\n",
        "    conn.commit()\n",
        "    print(\"Data imported successfully!\")\n",
        "except Exception as e:\n",
        "    print(f\"An error occurred: {e}\")\n",
        "    conn.rollback()  # Rollback changes if an error occurred\n",
        "\n"
      ],
      "metadata": {
        "colab": {
          "base_uri": "https://localhost:8080/"
        },
        "id": "ed0T4gXZLTD4",
        "outputId": "7699b41d-6e54-4291-9242-b5c42dc29edc"
      },
      "execution_count": 8,
      "outputs": [
        {
          "output_type": "stream",
          "name": "stdout",
          "text": [
            "Data imported successfully!\n"
          ]
        }
      ]
    },
    {
      "cell_type": "markdown",
      "source": [
        "**STEP 5: Check Data has loaded**\n",
        "\n",
        "Query each database table and load the data into a dataframe and display the first 5 lines"
      ],
      "metadata": {
        "id": "d3ozIMAAauOx"
      }
    },
    {
      "cell_type": "code",
      "source": [
        "import pandas as pd\n",
        "# Query all three tables and load into pandas DataFrames\n",
        "student_df = pd.read_sql_query(\"SELECT * FROM student\", conn)\n",
        "grade_df = pd.read_sql_query(\"SELECT * FROM grade\", conn)\n",
        "course_df = pd.read_sql_query(\"SELECT * FROM course\", conn)\n",
        "\n",
        "# Show the first 5 lines of each DataFrame\n",
        "print(\"Student Table:\")\n",
        "print(student_df.head(5))\n",
        "print(\"\\nGrade Table:\")\n",
        "print(grade_df.head(5))\n",
        "print(\"\\nCourse Table:\")\n",
        "print(course_df.head(5))\n",
        "\n",
        "\n"
      ],
      "metadata": {
        "id": "plFao_d5O3A8",
        "outputId": "2fe2c494-e9ba-4865-c321-8769b4bd0780",
        "colab": {
          "base_uri": "https://localhost:8080/"
        }
      },
      "execution_count": 9,
      "outputs": [
        {
          "output_type": "stream",
          "name": "stdout",
          "text": [
            "Student Table:\n",
            "      ID    First     Last\n",
            "0  S1001    Alice    Smith\n",
            "1  S1002      Bob    Brown\n",
            "2  S1003  Charlie  Johnson\n",
            "3  S1004    David   Taylor\n",
            "4  S1005     Emma    Brown\n",
            "\n",
            "Grade Table:\n",
            "      ID  Code  Mark\n",
            "0  S1005  C123    55\n",
            "1  S1005  C124    76\n",
            "2  S1011  C124    47\n",
            "3  S1014  C117    50\n",
            "4  S1032  C116    54\n",
            "\n",
            "Course Table:\n",
            "   Code                Title\n",
            "0  C101      Mathematics 101\n",
            "1  C102  Physics Inroduction\n",
            "2  C103  Chemistry Practical\n",
            "3  C104     Computer Science\n",
            "4  C105  Economics & Finance\n"
          ]
        }
      ]
    },
    {
      "cell_type": "markdown",
      "source": [
        "**ONLY RUN IF YOU NEED TO DELETE THE DATA IN THE TABLES**\n",
        "\n",
        "If you run go back to **STEP 4** and re-run from there."
      ],
      "metadata": {
        "id": "9w8NuN4VcuWm"
      }
    },
    {
      "cell_type": "code",
      "source": [
        "# only run if you need to reset the tables without deleting the databae and starting again - then re-run the box previous box.\n",
        "# Delete all data from the tables\n",
        "cursor.execute(\"DELETE FROM student\")\n",
        "cursor.execute(\"DELETE FROM grade\")\n",
        "cursor.execute(\"DELETE FROM course\")\n",
        "\n",
        "conn.commit()\n",
        "print(\"All data deleted from the tables successfully!\")\n",
        "\n"
      ],
      "metadata": {
        "colab": {
          "base_uri": "https://localhost:8080/"
        },
        "id": "4qcmP5_uaSgy",
        "outputId": "0e0399d7-c820-4554-9b4e-1748b0363a26"
      },
      "execution_count": null,
      "outputs": [
        {
          "output_type": "stream",
          "name": "stdout",
          "text": [
            "All data deleted from the tables successfully!\n"
          ]
        }
      ]
    },
    {
      "cell_type": "markdown",
      "source": [
        "**STEP 6: SQL Select statements**\n",
        "\n",
        "Run the following statements.  Please ask yoursefl the impact of each one before running.\n",
        "\n",
        "\n"
      ],
      "metadata": {
        "id": "3AzaswOOdNnH"
      }
    },
    {
      "cell_type": "code",
      "source": [
        "# Select all columns from the student table\n",
        "student_df = pd.read_sql_query(\"SELECT * FROM student\", conn)\n",
        "\n",
        "#What should the output be.\n",
        "print(student_df)\n",
        "\n"
      ],
      "metadata": {
        "id": "IVinXfbjdUx0",
        "outputId": "13c233e3-eacf-452b-c07f-b157e5c25054",
        "colab": {
          "base_uri": "https://localhost:8080/"
        }
      },
      "execution_count": 10,
      "outputs": [
        {
          "output_type": "stream",
          "name": "stdout",
          "text": [
            "       ID    First       Last\n",
            "0   S1001    Alice      Smith\n",
            "1   S1002      Bob      Brown\n",
            "2   S1003  Charlie    Johnson\n",
            "3   S1004    David     Taylor\n",
            "4   S1005     Emma      Brown\n",
            "5   S1006    Fiona     Thomas\n",
            "6   S1007   George      White\n",
            "7   S1008   Hannah     Harris\n",
            "8   S1009    Isaac      Smith\n",
            "9   S1010    Julia   Thompson\n",
            "10  S1011      Bob      Lewis\n",
            "11  S1012    Laura      Smith\n",
            "12  S1013  Michael      Allen\n",
            "13  S1014    Nancy      Young\n",
            "14  S1015   Oliver       King\n",
            "15  S1016    Paula      Smith\n",
            "16  S1017   Robert      Scott\n",
            "17  S1018   Robert      Adams\n",
            "18  S1019   Sophia      Baker\n",
            "19  S1020  Timothy      Brown\n",
            "20  S1021  Timothy       Hall\n",
            "21  S1022   Victor     Carter\n",
            "22  S1023    Wendy     Foster\n",
            "23  S1024  Yasmine      Price\n",
            "24  S1025  Yasmine    Roberts\n",
            "25  S1026  Zachary      Brown\n",
            "26  S1027    Aaron      Evans\n",
            "27  S1028     Beth   Campbell\n",
            "28  S1029  Yasmine     Parker\n",
            "29  S1030    Diana     Murphy\n",
            "30  S1031    Ethan      Price\n",
            "31  S1032  Felicia     Foster\n",
            "32  S1033   Gordon     Bryant\n",
            "33  S1034     Beth  Alexander\n",
            "34  S1035      Ian    Russell\n",
            "35  S1036  Jasmine     Foster\n",
            "36  S1037     Kyle     Foster\n",
            "37  S1038     Beth      Hayes\n",
            "38  S1039     Matt   Sullivan\n",
            "39  S1040     Nina      Price\n"
          ]
        }
      ]
    },
    {
      "cell_type": "code",
      "source": [
        "# Select Last from the student table\n",
        "studentLast_df = pd.read_sql_query(\"SELECT ALL Last FROM student\", conn)\n",
        "\n",
        "#What should the output be.\n",
        "print(studentLast_df)\n",
        "\n"
      ],
      "metadata": {
        "id": "YudMnn4Je5u8",
        "outputId": "43f33f47-4ec1-4ba6-87e5-33a4ad7faa47",
        "colab": {
          "base_uri": "https://localhost:8080/"
        }
      },
      "execution_count": 11,
      "outputs": [
        {
          "output_type": "stream",
          "name": "stdout",
          "text": [
            "         Last\n",
            "0       Smith\n",
            "1       Brown\n",
            "2     Johnson\n",
            "3      Taylor\n",
            "4       Brown\n",
            "5      Thomas\n",
            "6       White\n",
            "7      Harris\n",
            "8       Smith\n",
            "9    Thompson\n",
            "10      Lewis\n",
            "11      Smith\n",
            "12      Allen\n",
            "13      Young\n",
            "14       King\n",
            "15      Smith\n",
            "16      Scott\n",
            "17      Adams\n",
            "18      Baker\n",
            "19      Brown\n",
            "20       Hall\n",
            "21     Carter\n",
            "22     Foster\n",
            "23      Price\n",
            "24    Roberts\n",
            "25      Brown\n",
            "26      Evans\n",
            "27   Campbell\n",
            "28     Parker\n",
            "29     Murphy\n",
            "30      Price\n",
            "31     Foster\n",
            "32     Bryant\n",
            "33  Alexander\n",
            "34    Russell\n",
            "35     Foster\n",
            "36     Foster\n",
            "37      Hayes\n",
            "38   Sullivan\n",
            "39      Price\n"
          ]
        }
      ]
    },
    {
      "cell_type": "code",
      "source": [
        "# Select DISTINCT last names from the student table\n",
        "studentLastUnique_df = pd.read_sql_query(\"SELECT DISTINCT Last FROM student\", conn)\n",
        "\n",
        "#What should the output be.   What does this tell you from the previous outputs?\n",
        "print(studentLastUnique_df)\n",
        "\n"
      ],
      "metadata": {
        "id": "briaPGkHfIqf",
        "outputId": "3435d6aa-4f5c-4906-94f2-940f781d2f4c",
        "colab": {
          "base_uri": "https://localhost:8080/"
        }
      },
      "execution_count": 12,
      "outputs": [
        {
          "output_type": "stream",
          "name": "stdout",
          "text": [
            "         Last\n",
            "0       Smith\n",
            "1       Brown\n",
            "2     Johnson\n",
            "3      Taylor\n",
            "4      Thomas\n",
            "5       White\n",
            "6      Harris\n",
            "7    Thompson\n",
            "8       Lewis\n",
            "9       Allen\n",
            "10      Young\n",
            "11       King\n",
            "12      Scott\n",
            "13      Adams\n",
            "14      Baker\n",
            "15       Hall\n",
            "16     Carter\n",
            "17     Foster\n",
            "18      Price\n",
            "19    Roberts\n",
            "20      Evans\n",
            "21   Campbell\n",
            "22     Parker\n",
            "23     Murphy\n",
            "24     Bryant\n",
            "25  Alexander\n",
            "26    Russell\n",
            "27      Hayes\n",
            "28   Sullivan\n"
          ]
        }
      ]
    },
    {
      "cell_type": "code",
      "source": [
        "# Select DISTINCT First from the student table - modify the query\n",
        "studentFirstUnique_df = pd.read_sql_query(\"SELECT DISTINCT First FROM student\", conn)\n",
        "\n",
        "#What should the output be?  What does this tell you from the previous outputs?\n",
        "print(studentFirstUnique_df)"
      ],
      "metadata": {
        "id": "4AEN9vkGfhWO",
        "outputId": "72d5e52e-9214-4ca8-94f1-76245cadad07",
        "colab": {
          "base_uri": "https://localhost:8080/"
        }
      },
      "execution_count": 15,
      "outputs": [
        {
          "output_type": "stream",
          "name": "stdout",
          "text": [
            "      First\n",
            "0     Alice\n",
            "1       Bob\n",
            "2   Charlie\n",
            "3     David\n",
            "4      Emma\n",
            "5     Fiona\n",
            "6    George\n",
            "7    Hannah\n",
            "8     Isaac\n",
            "9     Julia\n",
            "10    Laura\n",
            "11  Michael\n",
            "12    Nancy\n",
            "13   Oliver\n",
            "14    Paula\n",
            "15   Robert\n",
            "16   Sophia\n",
            "17  Timothy\n",
            "18   Victor\n",
            "19    Wendy\n",
            "20  Yasmine\n",
            "21  Zachary\n",
            "22    Aaron\n",
            "23     Beth\n",
            "24    Diana\n",
            "25    Ethan\n",
            "26  Felicia\n",
            "27   Gordon\n",
            "28      Ian\n",
            "29  Jasmine\n",
            "30     Kyle\n",
            "31     Matt\n",
            "32     Nina\n"
          ]
        }
      ]
    },
    {
      "cell_type": "markdown",
      "source": [
        "**STEP 7: SELECT with WHERE**"
      ],
      "metadata": {
        "id": "uf1Qw4a9gPMe"
      }
    },
    {
      "cell_type": "code",
      "source": [
        "# Select Last from the student table\n",
        "studentWhere_df = pd.read_sql_query(\"SELECT * FROM grade WHERE Mark > 60\", conn)\n",
        "\n",
        "#What should the output be.\n",
        "print(studentWhere_df)"
      ],
      "metadata": {
        "id": "GMd1ShLkgObi",
        "outputId": "67b55532-82e1-4644-9923-8954d1625492",
        "colab": {
          "base_uri": "https://localhost:8080/"
        }
      },
      "execution_count": 16,
      "outputs": [
        {
          "output_type": "stream",
          "name": "stdout",
          "text": [
            "        ID  Code  Mark\n",
            "0    S1005  C124    76\n",
            "1    S1034  C114    75\n",
            "2    S1019  C103    72\n",
            "3    S1028  C110    61\n",
            "4    S1035  C120    72\n",
            "..     ...   ...   ...\n",
            "397  S1039  C114    65\n",
            "398  S1004  C115    75\n",
            "399  S1010  C106    71\n",
            "400  S1028  C119    67\n",
            "401  S1012  C114    74\n",
            "\n",
            "[402 rows x 3 columns]\n"
          ]
        }
      ]
    },
    {
      "cell_type": "code",
      "source": [
        "#export the dataframe to csv for further analysis\n",
        "#the index=False means no row numbers are exported.\n",
        "#change index to True and compare the outputs.  Youll need to download formthe Files window\n",
        "\n",
        "studentWhere_df.to_csv('Grades_Over_60.csv', index=True)\n"
      ],
      "metadata": {
        "id": "d5cim_4ygrd7"
      },
      "execution_count": 17,
      "outputs": []
    },
    {
      "cell_type": "markdown",
      "source": [
        "**TASK**\n",
        "\n",
        "Create a statement to select all students that have passed the Finance Management Course and export the file to CSV.\n",
        "\n",
        "Just using standard select statments.\n",
        "\n",
        "How would you tackle the problem."
      ],
      "metadata": {
        "id": "Q3QXPagrhoXN"
      }
    },
    {
      "cell_type": "code",
      "source": [
        "#review the structure of the grades table and the course table\n",
        "print(\"\\nGrade Table:\")\n",
        "print(grade_df.head(5))\n",
        "print(\"\\nCourse Table:\")\n",
        "print(course_df.head(5))"
      ],
      "metadata": {
        "id": "A8ZzgmF8hmvK",
        "outputId": "b5a1cb0e-8d7d-4682-d4cf-8030d8a42de7",
        "colab": {
          "base_uri": "https://localhost:8080/"
        }
      },
      "execution_count": 18,
      "outputs": [
        {
          "output_type": "stream",
          "name": "stdout",
          "text": [
            "\n",
            "Grade Table:\n",
            "      ID  Code  Mark\n",
            "0  S1005  C123    55\n",
            "1  S1005  C124    76\n",
            "2  S1011  C124    47\n",
            "3  S1014  C117    50\n",
            "4  S1032  C116    54\n",
            "\n",
            "Course Table:\n",
            "   Code                Title\n",
            "0  C101      Mathematics 101\n",
            "1  C102  Physics Inroduction\n",
            "2  C103  Chemistry Practical\n",
            "3  C104     Computer Science\n",
            "4  C105  Economics & Finance\n"
          ]
        }
      ]
    },
    {
      "cell_type": "code",
      "source": [
        "#select the course code from the course table for the Finance Management Course\n",
        "studentCourse_df = pd.read_sql_query(\"SELECT Code FROM course WHERE Title = 'Finance Management'\", conn)\n",
        "\n",
        "print(studentCourse_df)"
      ],
      "metadata": {
        "id": "sdeCnXWbjWRR",
        "outputId": "1411c143-d711-4f85-f274-d5a56234360e",
        "colab": {
          "base_uri": "https://localhost:8080/"
        }
      },
      "execution_count": 21,
      "outputs": [
        {
          "output_type": "stream",
          "name": "stdout",
          "text": [
            "   Code\n",
            "0  C115\n"
          ]
        }
      ]
    },
    {
      "cell_type": "code",
      "source": [
        "#select student ID and Mark for the Finance Management Course\n",
        "studentCourseMark_df = pd.read_sql_query(\"SELECT ID, Mark FROM grade WHERE Code = 'C115'\", conn)\n",
        "\n",
        "print(studentCourseMark_df)"
      ],
      "metadata": {
        "id": "vpDF6Ommjt4r",
        "outputId": "f90455f2-0b86-470c-8888-6a150b16eb71",
        "colab": {
          "base_uri": "https://localhost:8080/"
        }
      },
      "execution_count": 28,
      "outputs": [
        {
          "output_type": "stream",
          "name": "stdout",
          "text": [
            "       ID  Mark\n",
            "0   S1034    57\n",
            "1   S1012    68\n",
            "2   S1017    51\n",
            "3   S1031    60\n",
            "4   S1036    58\n",
            "5   S1030    48\n",
            "6   S1028    61\n",
            "7   S1005    67\n",
            "8   S1015    46\n",
            "9   S1009    59\n",
            "10  S1001    46\n",
            "11  S1008    59\n",
            "12  S1038    75\n",
            "13  S1023    57\n",
            "14  S1040    65\n",
            "15  S1019    58\n",
            "16  S1026    53\n",
            "17  S1013    63\n",
            "18  S1033    72\n",
            "19  S1002    57\n",
            "20  S1006    62\n",
            "21  S1022    74\n",
            "22  S1014    72\n",
            "23  S1016    54\n",
            "24  S1035    43\n",
            "25  S1007    47\n",
            "26  S1018    77\n",
            "27  S1020    64\n",
            "28  S1029    57\n",
            "29  S1011    54\n",
            "30  S1003    68\n",
            "31  S1004    75\n"
          ]
        }
      ]
    },
    {
      "cell_type": "markdown",
      "source": [
        "**STEP 8: Select from multiple tables in one statement**\n",
        "\n",
        "This can cause issues where tables have hte same column names in different tables.  \n",
        "\n",
        "To resolve this we need to make use of the following syntax:\n",
        "TableName.Column"
      ],
      "metadata": {
        "id": "bDQrjImKn-pl"
      }
    },
    {
      "cell_type": "code",
      "source": [
        "#select the following coloumns:  First, Last & Mark from the Student and Grade tables\n",
        "studentMarks_df = pd.read_sql_query(\"SELECT First, Last, Mark FROM student, grade WHERE (student.ID = grade.ID)\", conn)\n",
        "\n",
        "print(studentMarks_df)\n"
      ],
      "metadata": {
        "id": "WLQb3aqSkawk",
        "outputId": "abcc780b-ebbe-4b52-e14d-5c40a0bdf23f",
        "colab": {
          "base_uri": "https://localhost:8080/"
        }
      },
      "execution_count": 29,
      "outputs": [
        {
          "output_type": "stream",
          "name": "stdout",
          "text": [
            "       First      Last  Mark\n",
            "0       Emma     Brown    55\n",
            "1       Emma     Brown    76\n",
            "2        Bob     Lewis    47\n",
            "3      Nancy     Young    50\n",
            "4    Felicia    Foster    54\n",
            "..       ...       ...   ...\n",
            "795     Kyle    Foster    54\n",
            "796     Matt  Sullivan    57\n",
            "797    Laura     Smith    74\n",
            "798    Diana    Murphy    53\n",
            "799     Kyle    Foster    54\n",
            "\n",
            "[800 rows x 3 columns]\n"
          ]
        }
      ]
    },
    {
      "cell_type": "markdown",
      "source": [
        "**TASK**\n",
        "\n",
        "Modify the statement to get all the students that acheived a mark over 50"
      ],
      "metadata": {
        "id": "t49tIdCGrpzP"
      }
    },
    {
      "cell_type": "code",
      "source": [
        "#select the following coloumns:  First, Last & Mark from the Student and Grade tables\n",
        "studentMarks_df = pd.read_sql_query(\"SELECT First, Last, Mark FROM student, grade WHERE (Student.ID = Grade.ID)\", conn)\n",
        "\n",
        "print(studentMarks_df)"
      ],
      "metadata": {
        "id": "quqbECBNrojM",
        "outputId": "20a86b15-c0d9-499c-f0ce-75f13751531f",
        "colab": {
          "base_uri": "https://localhost:8080/"
        }
      },
      "execution_count": 31,
      "outputs": [
        {
          "output_type": "stream",
          "name": "stdout",
          "text": [
            "       First      Last  Mark\n",
            "0       Emma     Brown    55\n",
            "1       Emma     Brown    76\n",
            "2        Bob     Lewis    47\n",
            "3      Nancy     Young    50\n",
            "4    Felicia    Foster    54\n",
            "..       ...       ...   ...\n",
            "795     Kyle    Foster    54\n",
            "796     Matt  Sullivan    57\n",
            "797    Laura     Smith    74\n",
            "798    Diana    Murphy    53\n",
            "799     Kyle    Foster    54\n",
            "\n",
            "[800 rows x 3 columns]\n"
          ]
        }
      ]
    },
    {
      "cell_type": "code",
      "source": [
        "#select the following coloumns:  First, Last & Mark from the Student and Grade tables\n",
        "studentMarks_df = pd.read_sql_query(\"SELECT First, Last, Mark FROM student, grade WHERE (Student.ID = Grade.ID) AND Mark >= '50'\", conn)\n",
        "\n",
        "print(studentMarks_df)"
      ],
      "metadata": {
        "id": "UzCc4cSss9y9",
        "outputId": "2298b703-0700-44fc-9825-b25db987a8b2",
        "colab": {
          "base_uri": "https://localhost:8080/"
        }
      },
      "execution_count": 32,
      "outputs": [
        {
          "output_type": "stream",
          "name": "stdout",
          "text": [
            "       First       Last  Mark\n",
            "0       Emma      Brown    55\n",
            "1       Emma      Brown    76\n",
            "2      Nancy      Young    50\n",
            "3    Felicia     Foster    54\n",
            "4       Beth  Alexander    75\n",
            "..       ...        ...   ...\n",
            "633     Kyle     Foster    54\n",
            "634     Matt   Sullivan    57\n",
            "635    Laura      Smith    74\n",
            "636    Diana     Murphy    53\n",
            "637     Kyle     Foster    54\n",
            "\n",
            "[638 rows x 3 columns]\n"
          ]
        }
      ]
    },
    {
      "cell_type": "code",
      "source": [
        "#modify the query to gather the 'Finance Management Course and all studnet that obtained a mark between 55 and 65\n",
        "studentMarks_df = pd.read_sql_query(\"SELECT First, Last, Mark FROM student, grade, course WHERE (Student.ID = Grade.ID) AND (grade.Code = course.Code) AND course.code = 'C115' AND Mark BETWEEN '55' AND '65'\", conn)\n",
        "\n",
        "print(studentMarks_df)"
      ],
      "metadata": {
        "id": "kjayKT-Ot0ei",
        "outputId": "9d2ae3c9-6e7f-4e11-f52f-332abbeef087",
        "colab": {
          "base_uri": "https://localhost:8080/"
        }
      },
      "execution_count": 40,
      "outputs": [
        {
          "output_type": "stream",
          "name": "stdout",
          "text": [
            "      First       Last  Mark\n",
            "0      Beth  Alexander    57\n",
            "1     Ethan      Price    60\n",
            "2   Jasmine     Foster    58\n",
            "3      Beth   Campbell    61\n",
            "4     Isaac      Smith    59\n",
            "5    Hannah     Harris    59\n",
            "6     Wendy     Foster    57\n",
            "7      Nina      Price    65\n",
            "8    Sophia      Baker    58\n",
            "9   Michael      Allen    63\n",
            "10      Bob      Brown    57\n",
            "11    Fiona     Thomas    62\n",
            "12  Timothy      Brown    64\n",
            "13  Yasmine     Parker    57\n"
          ]
        }
      ]
    },
    {
      "cell_type": "markdown",
      "source": [
        "**STEP 9: ORDER BY statements**\n",
        "\n",
        "Can be set to be either ASC or DESC.  The syntax is ORDER BY added to the select statement."
      ],
      "metadata": {
        "id": "zkc1rMFpvcXL"
      }
    },
    {
      "cell_type": "code",
      "source": [
        "studentMarks_df = pd.read_sql_query(\"SELECT * FROM grade ORDER BY Mark DESC\", conn)\n",
        "\n",
        "print (studentMarks_df)"
      ],
      "metadata": {
        "id": "20mZYXZ6vbrQ",
        "outputId": "28a826f3-6b32-4088-bb80-f6a90e0c81b6",
        "colab": {
          "base_uri": "https://localhost:8080/"
        }
      },
      "execution_count": 41,
      "outputs": [
        {
          "output_type": "stream",
          "name": "stdout",
          "text": [
            "        ID  Code  Mark\n",
            "0    S1023  C109    82\n",
            "1    S1029  C105    82\n",
            "2    S1001  C117    82\n",
            "3    S1037  C124    81\n",
            "4    S1015  C123    81\n",
            "..     ...   ...   ...\n",
            "795  S1033  C116    37\n",
            "796  S1027  C107    35\n",
            "797  S1014  C103    35\n",
            "798  S1032  C118    35\n",
            "799  S1036  C108    35\n",
            "\n",
            "[800 rows x 3 columns]\n"
          ]
        }
      ]
    },
    {
      "cell_type": "markdown",
      "source": [
        "**TASK**\n",
        "\n",
        "Modify the statement to order by Course Code and then Mark"
      ],
      "metadata": {
        "id": "ScvbtC-lwLjG"
      }
    },
    {
      "cell_type": "code",
      "source": [
        "studentMarks_df = pd.read_sql_query(\"SELECT * FROM grade ORDER BY code, Mark DESC\", conn)\n",
        "print (studentMarks_df)"
      ],
      "metadata": {
        "id": "y1X-2VMFwKMP",
        "outputId": "cb35bda5-c9c9-40cd-c151-eed7d7aaadc6",
        "colab": {
          "base_uri": "https://localhost:8080/"
        }
      },
      "execution_count": 48,
      "outputs": [
        {
          "output_type": "stream",
          "name": "stdout",
          "text": [
            "        ID  Code  Mark\n",
            "0    S1011  C101    78\n",
            "1    S1039  C101    76\n",
            "2    S1012  C101    76\n",
            "3    S1034  C101    76\n",
            "4    S1031  C101    75\n",
            "..     ...   ...   ...\n",
            "795  S1035  C124    47\n",
            "796  S1001  C124    47\n",
            "797  S1020  C124    44\n",
            "798  S1022  C124    42\n",
            "799  S1017  C124    40\n",
            "\n",
            "[800 rows x 3 columns]\n"
          ]
        }
      ]
    },
    {
      "cell_type": "markdown",
      "source": [
        "Modify the statement to order by Code, Mark and obtain the student Name.  Only show Name and Mark for Course Id"
      ],
      "metadata": {
        "id": "lDfIGibuwge-"
      }
    },
    {
      "cell_type": "code",
      "source": [
        "studentMarks_df = pd.read_sql_query(\"SELECT First, Last, Mark, Code FROM student, grade WHERE (student.ID = grade.ID) ORDER BY code , Mark DESC\", conn)\n",
        "print (studentMarks_df)"
      ],
      "metadata": {
        "id": "ObTYxMkewsvb",
        "outputId": "351ac01f-3d25-4961-f2b2-89b1f685bd5a",
        "colab": {
          "base_uri": "https://localhost:8080/"
        }
      },
      "execution_count": 50,
      "outputs": [
        {
          "output_type": "stream",
          "name": "stdout",
          "text": [
            "       First       Last  Mark  Code\n",
            "0        Bob      Lewis    78  C101\n",
            "1       Matt   Sullivan    76  C101\n",
            "2      Laura      Smith    76  C101\n",
            "3       Beth  Alexander    76  C101\n",
            "4      Ethan      Price    75  C101\n",
            "..       ...        ...   ...   ...\n",
            "795      Ian    Russell    47  C124\n",
            "796    Alice      Smith    47  C124\n",
            "797  Timothy      Brown    44  C124\n",
            "798   Victor     Carter    42  C124\n",
            "799   Robert      Scott    40  C124\n",
            "\n",
            "[800 rows x 4 columns]\n"
          ]
        }
      ]
    },
    {
      "cell_type": "markdown",
      "source": [
        "Modify the statement to select for a specific course and display the course code and title, order by the grade ASC - Statistics For Python"
      ],
      "metadata": {
        "id": "71JnG0EAxRia"
      }
    },
    {
      "cell_type": "code",
      "source": [
        "studentMarks_df = pd.read_sql_query(\"SELECT First, Last, Mark, Course.Code, Title FROM grade, student, course WHERE (student.id = grade.id) AND (course.title = 'Statistics For Python') ORDER BY Mark ASC\", conn)\n",
        "print (studentMarks_df)"
      ],
      "metadata": {
        "id": "vT46ydLmxLdK",
        "outputId": "2aabf74e-1d23-4b23-8cf1-442fb52e5b73",
        "colab": {
          "base_uri": "https://localhost:8080/"
        }
      },
      "execution_count": 52,
      "outputs": [
        {
          "output_type": "stream",
          "name": "stdout",
          "text": [
            "       First    Last  Mark  Code                  Title\n",
            "0      Aaron   Evans    35  C113  Statistics For Python\n",
            "1      Nancy   Young    35  C113  Statistics For Python\n",
            "2    Felicia  Foster    35  C113  Statistics For Python\n",
            "3    Jasmine  Foster    35  C113  Statistics For Python\n",
            "4     Robert   Adams    37  C113  Statistics For Python\n",
            "..       ...     ...   ...   ...                    ...\n",
            "795   Sophia   Baker    81  C113  Statistics For Python\n",
            "796  Timothy   Brown    81  C113  Statistics For Python\n",
            "797    Wendy  Foster    82  C113  Statistics For Python\n",
            "798  Yasmine  Parker    82  C113  Statistics For Python\n",
            "799    Alice   Smith    82  C113  Statistics For Python\n",
            "\n",
            "[800 rows x 5 columns]\n"
          ]
        }
      ]
    },
    {
      "cell_type": "markdown",
      "source": [
        "**STEP 10: Arthimatic and Aggregating functions**\n",
        "\n",
        "Simple arithmatic on the columns.  \n",
        "\n",
        "When running we make use of AS - to make better readibility for the column name."
      ],
      "metadata": {
        "id": "3UJE1ltfzzQ3"
      }
    },
    {
      "cell_type": "code",
      "source": [
        "#simple Adding values, Subtracting Values, Multiplyig Values:\n",
        "studentCount_df = pd.read_sql_query(\"SELECT Mark, Mark/2 AS DIVIDED, Mark*2 AS DOUBLED, MArk+10 AS MODERATED FROM grade\", conn)\n",
        "print (studentCount_df)"
      ],
      "metadata": {
        "id": "eirT61et1anI",
        "outputId": "bbd24cfb-1654-410d-96c5-c92f78ed5ed3",
        "colab": {
          "base_uri": "https://localhost:8080/"
        }
      },
      "execution_count": 53,
      "outputs": [
        {
          "output_type": "stream",
          "name": "stdout",
          "text": [
            "     Mark  DIVIDED  DOUBLED  MODERATED\n",
            "0      55       27      110         65\n",
            "1      76       38      152         86\n",
            "2      47       23       94         57\n",
            "3      50       25      100         60\n",
            "4      54       27      108         64\n",
            "..    ...      ...      ...        ...\n",
            "795    54       27      108         64\n",
            "796    57       28      114         67\n",
            "797    74       37      148         84\n",
            "798    53       26      106         63\n",
            "799    54       27      108         64\n",
            "\n",
            "[800 rows x 4 columns]\n"
          ]
        }
      ]
    },
    {
      "cell_type": "code",
      "source": [
        "#simple Count:  Count up the rows:\n",
        "studentCount_df = pd.read_sql_query(\"SELECT COUNT(*) AS COUNT FROM grade\", conn)\n",
        "print (studentCount_df)"
      ],
      "metadata": {
        "id": "vNroUrDEzzCx",
        "outputId": "aa854f4d-6b6d-433a-e8ed-1f2b7fb4b8aa",
        "colab": {
          "base_uri": "https://localhost:8080/"
        }
      },
      "execution_count": 54,
      "outputs": [
        {
          "output_type": "stream",
          "name": "stdout",
          "text": [
            "   COUNT\n",
            "0    800\n"
          ]
        }
      ]
    },
    {
      "cell_type": "code",
      "source": [
        "#simple SUM for the column values\n",
        "studentCount_df = pd.read_sql_query(\"SELECT SUM(mark) AS TOTAL FROM grade\", conn)\n",
        "print (studentCount_df)"
      ],
      "metadata": {
        "id": "Gdob7mt_0igF",
        "outputId": "2d4a377e-505a-48a9-ed59-3dc6a7752d47",
        "colab": {
          "base_uri": "https://localhost:8080/"
        }
      },
      "execution_count": 55,
      "outputs": [
        {
          "output_type": "stream",
          "name": "stdout",
          "text": [
            "   TOTAL\n",
            "0  48275\n"
          ]
        }
      ]
    },
    {
      "cell_type": "code",
      "source": [
        "#simple MAX for the column values\n",
        "studentCount_df = pd.read_sql_query(\"SELECT MAX(mark) AS BEST FROM grade\", conn)\n",
        "print (studentCount_df)\n",
        "\n",
        "#modify to print the Lowest Mark"
      ],
      "metadata": {
        "id": "D-rd8cG41F0H",
        "outputId": "765e7fca-7371-42e7-d093-d02d87ea3830",
        "colab": {
          "base_uri": "https://localhost:8080/"
        }
      },
      "execution_count": 56,
      "outputs": [
        {
          "output_type": "stream",
          "name": "stdout",
          "text": [
            "   BEST\n",
            "0    82\n"
          ]
        }
      ]
    },
    {
      "cell_type": "markdown",
      "source": [
        "**TASK**\n",
        "\n",
        "How would you calculate the RANGE of values in the marks column."
      ],
      "metadata": {
        "id": "BJwQJ5n52cvg"
      }
    },
    {
      "cell_type": "code",
      "source": [
        "studentCount_df = pd.read_sql_query(\"SELECT MAX(mark) - MIN(mark) AS Range FROM grade\", conn)\n",
        "print (studentCount_df)"
      ],
      "metadata": {
        "id": "sJOJepFw2cet",
        "outputId": "47fed5f7-2402-4526-d120-dfb1eea9d8c8",
        "colab": {
          "base_uri": "https://localhost:8080/"
        }
      },
      "execution_count": 58,
      "outputs": [
        {
          "output_type": "stream",
          "name": "stdout",
          "text": [
            "   Range\n",
            "0     47\n"
          ]
        }
      ]
    },
    {
      "cell_type": "markdown",
      "source": [
        "How would you find a specific students marks for all modules taken and the average mark.\n",
        "\n",
        "The student is Laura Smith\n",
        "\n"
      ],
      "metadata": {
        "id": "tKMS1T133I5V"
      }
    },
    {
      "cell_type": "code",
      "source": [],
      "metadata": {
        "id": "0oFR71Xcrk7T"
      },
      "execution_count": 59,
      "outputs": []
    },
    {
      "cell_type": "code",
      "source": [
        "studentMarks_df = pd.read_sql_query(\"SELECT First, Last, COUNT(*) AS Modules, SUM(mark) as TOTAL, SUM(mark)/COUNT(*) AS AVERAGE FROM student, grade WHERE (student.ID = Grade.ID) AND first = 'Laura'\", conn)\n",
        "print (studentMarks_df)"
      ],
      "metadata": {
        "id": "unqhny4E3H1B",
        "outputId": "d077659b-0ab6-444a-cdb6-386dc2a338dd",
        "colab": {
          "base_uri": "https://localhost:8080/"
        }
      },
      "execution_count": 61,
      "outputs": [
        {
          "output_type": "stream",
          "name": "stdout",
          "text": [
            "   First   Last  Modules  OTAL  AVERAGE\n",
            "0  Laura  Smith       20  1238       61\n"
          ]
        }
      ]
    },
    {
      "cell_type": "markdown",
      "source": [
        "**STEP 11: Group BY Statements**\n",
        "\n",
        "When we need to pull a group of rows together and carry out an aggregation of data."
      ],
      "metadata": {
        "id": "JMI7cvhk6qOZ"
      }
    },
    {
      "cell_type": "code",
      "source": [
        "studentGroup_df = pd.read_sql_query(\"SELECT AVG(Mark), Code AS AVERAGE FROM grade GROUP BY Code\", conn)\n",
        "print (studentGroup_df)"
      ],
      "metadata": {
        "id": "nV_GcrqQ9QZz",
        "outputId": "e0c63871-1290-4d5b-da60-1d9a8acefbce",
        "colab": {
          "base_uri": "https://localhost:8080/"
        }
      },
      "execution_count": 62,
      "outputs": [
        {
          "output_type": "stream",
          "name": "stdout",
          "text": [
            "    AVG(Mark) AVERAGE\n",
            "0   59.823529    C101\n",
            "1   62.366667    C102\n",
            "2   57.911765    C103\n",
            "3   61.228571    C104\n",
            "4   60.515152    C105\n",
            "5   57.909091    C106\n",
            "6   57.900000    C107\n",
            "7   58.540541    C108\n",
            "8   59.638889    C109\n",
            "9   59.906250    C110\n",
            "10  61.424242    C111\n",
            "11  60.028571    C112\n",
            "12  60.781250    C113\n",
            "13  64.093750    C114\n",
            "14  60.218750    C115\n",
            "15  58.542857    C116\n",
            "16  61.393939    C117\n",
            "17  60.542857    C118\n",
            "18  62.000000    C119\n",
            "19  60.638889    C120\n",
            "20  58.361111    C121\n",
            "21  63.709677    C122\n",
            "22  61.600000    C123\n",
            "23  60.093750    C124\n"
          ]
        }
      ]
    },
    {
      "cell_type": "markdown",
      "source": [
        "**TASK**\n",
        "\n",
        "Create a query to show the First, Last name of the student and there average grade across all modules."
      ],
      "metadata": {
        "id": "9oa6vYCs9fIS"
      }
    },
    {
      "cell_type": "code",
      "source": [
        "studentGroup_df = pd.read_sql_query(\"SELECT First, Last, AVG(Mark) AS AVERAGE FROM student, grade WHERE (student.id = grade.id) GROUP BY Last, First ORDER BY AVERAGE DESC\", conn)\n",
        "print (studentGroup_df)\n",
        "\n",
        "#modify the query to order by AVERAGE grade DESC"
      ],
      "metadata": {
        "id": "3M_A0f1n6pVu",
        "outputId": "f2ae858f-84cf-47e0-9f42-837fd20cf622",
        "colab": {
          "base_uri": "https://localhost:8080/"
        }
      },
      "execution_count": 82,
      "outputs": [
        {
          "output_type": "stream",
          "name": "stdout",
          "text": [
            "      First       Last  AVERAGE\n",
            "0   Yasmine     Parker    65.35\n",
            "1    Robert      Adams    64.20\n",
            "2     Isaac      Smith    63.95\n",
            "3      Beth      Hayes    63.55\n",
            "4     David     Taylor    63.50\n",
            "5      Beth  Alexander    63.15\n",
            "6    Sophia      Baker    62.90\n",
            "7   Michael      Allen    62.70\n",
            "8   Timothy       Hall    62.55\n",
            "9     Wendy     Foster    62.40\n",
            "10    Nancy      Young    62.30\n",
            "11    Aaron      Evans    62.05\n",
            "12    Laura      Smith    61.90\n",
            "13   Oliver       King    61.70\n",
            "14      Bob      Brown    61.60\n",
            "15    Ethan      Price    61.55\n",
            "16  Yasmine      Price    61.05\n",
            "17   Victor     Carter    61.00\n",
            "18  Felicia     Foster    60.95\n",
            "19  Charlie    Johnson    60.85\n",
            "20  Timothy      Brown    60.70\n",
            "21     Emma      Brown    60.65\n",
            "22    Diana     Murphy    60.25\n",
            "23    Fiona     Thomas    60.00\n",
            "24     Beth   Campbell    59.65\n",
            "25     Kyle     Foster    59.40\n",
            "26    Alice      Smith    58.90\n",
            "27    Paula      Smith    58.70\n",
            "28   Hannah     Harris    58.60\n",
            "29   Gordon     Bryant    58.35\n",
            "30   George      White    58.35\n",
            "31  Jasmine     Foster    58.15\n",
            "32  Yasmine    Roberts    57.55\n",
            "33      Ian    Russell    57.45\n",
            "34     Matt   Sullivan    57.45\n",
            "35  Zachary      Brown    57.05\n",
            "36     Nina      Price    56.70\n",
            "37      Bob      Lewis    55.90\n",
            "38    Julia   Thompson    55.65\n",
            "39   Robert      Scott    55.10\n"
          ]
        }
      ]
    },
    {
      "cell_type": "markdown",
      "source": [
        "We can use HAVING to repalce a WHERE when we have items that have been grouped together."
      ],
      "metadata": {
        "id": "m874It_P-_dd"
      }
    },
    {
      "cell_type": "code",
      "source": [
        "#using your above query identify stuent that have an AVG of more then 65\n",
        "studentGroup_df = pd.read_sql_query(\"SELECT * FROM student, grade WHERE (student.id = grade.id) GROUP BY Last, First HAVING (AVG(Mark) BETWEEN 55 AND 65)\", conn)\n",
        "print (studentGroup_df)\n",
        "\n",
        "#how would you change this so it's between 52 AND 58"
      ],
      "metadata": {
        "id": "QV7-gV4i_Jtw",
        "outputId": "e97f36d4-cc48-4635-8e44-c79f0f61af02",
        "colab": {
          "base_uri": "https://localhost:8080/"
        }
      },
      "execution_count": 88,
      "outputs": [
        {
          "output_type": "stream",
          "name": "stdout",
          "text": [
            "       ID    First       Last     ID  Code  Mark\n",
            "0   S1018   Robert      Adams  S1018  C106    62\n",
            "1   S1034     Beth  Alexander  S1034  C114    75\n",
            "2   S1013  Michael      Allen  S1013  C107    52\n",
            "3   S1019   Sophia      Baker  S1019  C103    72\n",
            "4   S1002      Bob      Brown  S1002  C123    47\n",
            "5   S1005     Emma      Brown  S1005  C123    55\n",
            "6   S1020  Timothy      Brown  S1020  C104    74\n",
            "7   S1026  Zachary      Brown  S1026  C121    70\n",
            "8   S1033   Gordon     Bryant  S1033  C121    56\n",
            "9   S1028     Beth   Campbell  S1028  C110    61\n",
            "10  S1022   Victor     Carter  S1022  C102    74\n",
            "11  S1027    Aaron      Evans  S1027  C122    78\n",
            "12  S1032  Felicia     Foster  S1032  C116    54\n",
            "13  S1036  Jasmine     Foster  S1036  C104    74\n",
            "14  S1037     Kyle     Foster  S1037  C124    81\n",
            "15  S1023    Wendy     Foster  S1023  C112    66\n",
            "16  S1021  Timothy       Hall  S1021  C111    70\n",
            "17  S1008   Hannah     Harris  S1008  C110    46\n",
            "18  S1038     Beth      Hayes  S1038  C111    66\n",
            "19  S1003  Charlie    Johnson  S1003  C111    55\n",
            "20  S1015   Oliver       King  S1015  C105    49\n",
            "21  S1011      Bob      Lewis  S1011  C124    47\n",
            "22  S1030    Diana     Murphy  S1030  C116    80\n",
            "23  S1031    Ethan      Price  S1031  C121    59\n",
            "24  S1040     Nina      Price  S1040  C121    75\n",
            "25  S1024  Yasmine      Price  S1024  C117    69\n",
            "26  S1025  Yasmine    Roberts  S1025  C109    49\n",
            "27  S1035      Ian    Russell  S1035  C120    72\n",
            "28  S1017   Robert      Scott  S1017  C115    51\n",
            "29  S1001    Alice      Smith  S1001  C111    64\n",
            "30  S1009    Isaac      Smith  S1009  C116    46\n",
            "31  S1012    Laura      Smith  S1012  C112    56\n",
            "32  S1016    Paula      Smith  S1016  C106    55\n",
            "33  S1039     Matt   Sullivan  S1039  C123    59\n",
            "34  S1004    David     Taylor  S1004  C124    65\n",
            "35  S1006    Fiona     Thomas  S1006  C110    71\n",
            "36  S1010    Julia   Thompson  S1010  C101    66\n",
            "37  S1007   George      White  S1007  C101    59\n",
            "38  S1014    Nancy      Young  S1014  C117    50\n"
          ]
        }
      ]
    },
    {
      "cell_type": "markdown",
      "source": [
        "**STEP 12: Using JOINS**\n",
        "\n",
        "Cross JOIN A & B - retunrs all pairs of rows from A and B\n",
        "\n",
        "Natural JOIN A & B - returns pairs of rwos with comon values for idnetical names columns and without dupilcating columns\n",
        "\n",
        "Inner JOIN A & B - returns pairs of rows satisfying a condition"
      ],
      "metadata": {
        "id": "elcg_9P2DpG5"
      }
    },
    {
      "cell_type": "code",
      "source": [
        "#CROSS JOIN\n",
        "studentJoin_df = pd.read_sql_query(\"SELECT * FROM student CROSS JOIN grade\", conn)\n",
        "print (studentJoin_df)"
      ],
      "metadata": {
        "id": "O_0ysJtkDo76",
        "outputId": "44b4d235-927f-4be5-fcc8-0acd89996808",
        "colab": {
          "base_uri": "https://localhost:8080/"
        }
      },
      "execution_count": 89,
      "outputs": [
        {
          "output_type": "stream",
          "name": "stdout",
          "text": [
            "          ID  First   Last     ID  Code  Mark\n",
            "0      S1001  Alice  Smith  S1005  C123    55\n",
            "1      S1001  Alice  Smith  S1005  C124    76\n",
            "2      S1001  Alice  Smith  S1011  C124    47\n",
            "3      S1001  Alice  Smith  S1014  C117    50\n",
            "4      S1001  Alice  Smith  S1032  C116    54\n",
            "...      ...    ...    ...    ...   ...   ...\n",
            "31995  S1040   Nina  Price  S1037  C117    54\n",
            "31996  S1040   Nina  Price  S1039  C103    57\n",
            "31997  S1040   Nina  Price  S1012  C114    74\n",
            "31998  S1040   Nina  Price  S1030  C104    53\n",
            "31999  S1040   Nina  Price  S1037  C102    54\n",
            "\n",
            "[32000 rows x 6 columns]\n"
          ]
        }
      ]
    },
    {
      "cell_type": "code",
      "source": [
        "#NATURAL JOIN\n",
        "studentJoin_df = pd.read_sql_query(\"SELECT * FROM student NATURAL JOIN grade\", conn)\n",
        "print (studentJoin_df)"
      ],
      "metadata": {
        "id": "79UIMRzvE8Cq",
        "outputId": "a170fee4-231f-4fd9-c9cc-0c5aa9162e00",
        "colab": {
          "base_uri": "https://localhost:8080/"
        }
      },
      "execution_count": 90,
      "outputs": [
        {
          "output_type": "stream",
          "name": "stdout",
          "text": [
            "        ID    First      Last  Code  Mark\n",
            "0    S1005     Emma     Brown  C123    55\n",
            "1    S1005     Emma     Brown  C124    76\n",
            "2    S1011      Bob     Lewis  C124    47\n",
            "3    S1014    Nancy     Young  C117    50\n",
            "4    S1032  Felicia    Foster  C116    54\n",
            "..     ...      ...       ...   ...   ...\n",
            "795  S1037     Kyle    Foster  C117    54\n",
            "796  S1039     Matt  Sullivan  C103    57\n",
            "797  S1012    Laura     Smith  C114    74\n",
            "798  S1030    Diana    Murphy  C104    53\n",
            "799  S1037     Kyle    Foster  C102    54\n",
            "\n",
            "[800 rows x 5 columns]\n"
          ]
        }
      ]
    },
    {
      "cell_type": "code",
      "source": [
        "#INNER JOIN\n",
        "studentJoin_df = pd.read_sql_query(\"SELECT * FROM student INNER JOIN grade USING (ID)\", conn)\n",
        "print (studentJoin_df)"
      ],
      "metadata": {
        "id": "PMKnT-bwFRbL",
        "outputId": "154f49fb-fb1a-4673-b84d-4f36aec91bb4",
        "colab": {
          "base_uri": "https://localhost:8080/"
        }
      },
      "execution_count": 91,
      "outputs": [
        {
          "output_type": "stream",
          "name": "stdout",
          "text": [
            "        ID    First      Last  Code  Mark\n",
            "0    S1005     Emma     Brown  C123    55\n",
            "1    S1005     Emma     Brown  C124    76\n",
            "2    S1011      Bob     Lewis  C124    47\n",
            "3    S1014    Nancy     Young  C117    50\n",
            "4    S1032  Felicia    Foster  C116    54\n",
            "..     ...      ...       ...   ...   ...\n",
            "795  S1037     Kyle    Foster  C117    54\n",
            "796  S1039     Matt  Sullivan  C103    57\n",
            "797  S1012    Laura     Smith  C114    74\n",
            "798  S1030    Diana    Murphy  C104    53\n",
            "799  S1037     Kyle    Foster  C102    54\n",
            "\n",
            "[800 rows x 5 columns]\n"
          ]
        }
      ]
    },
    {
      "cell_type": "code",
      "source": [],
      "metadata": {
        "id": "xrJ96WysGR-u"
      },
      "execution_count": 91,
      "outputs": []
    }
  ]
}